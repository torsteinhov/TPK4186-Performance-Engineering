{
 "cells": [
  {
   "cell_type": "code",
   "execution_count": 1,
   "metadata": {},
   "outputs": [],
   "source": [
    "from cmath import inf\n",
    "from models import createFromBenchmark, Calculator"
   ]
  },
  {
   "cell_type": "markdown",
   "metadata": {},
   "source": [
    "# Simple scheduling of job shop problems\n",
    "\n",
    "Task 6. Design a data structure to store schedules.\n",
    "Task 7. Design a class Calculator with a method to calculate the total operation time of a\n",
    "schedule.\n",
    "Task 8. Add a method to your calculator to generate the list all candidate schedules. Use\n",
    "this method to calculate the makespan of a problem.\n",
    "Task 9. Show experimentally why this approach is limited to small problems.\n",
    "\n",
    "For this experiment we have used a quite small job shop problem. This is in order to easier visualize the solutions"
   ]
  },
  {
   "cell_type": "code",
   "execution_count": 2,
   "metadata": {},
   "outputs": [
    {
     "name": "stdout",
     "output_type": "stream",
     "text": [
      "Problem:\n",
      "Job 1 = [(3,4), (2,2), (1,1), ] /n Job 2 = [(1,3), (3,3), ] /n Job 3 = [(2,2), (1,4), (3,1), ] /n \n",
      "Simple Schedule: \n",
      "[(1, 0), (1, 1), (1, 2), (2, 0), (2, 1), (3, 0), (3, 1), (3, 2)]\n"
     ]
    }
   ],
   "source": [
    "filename = '/Users/ane/Projects/Performance Engineering/mini_project_4/benchmarks/benchmark_1.txt'\n",
    "problem = createFromBenchmark(filename)\n",
    "calc = Calculator()\n",
    "print('Problem:')\n",
    "print(problem)\n",
    "print('Simple Schedule: ')\n",
    "print(problem.getSchedule())"
   ]
  },
  {
   "cell_type": "code",
   "execution_count": 3,
   "metadata": {},
   "outputs": [
    {
     "name": "stdout",
     "output_type": "stream",
     "text": [
      "Length before removing:  40320\n",
      "Length after removing:  560\n",
      "Best solution found:  [(1, 0), (2, 0), (2, 1), (3, 0), (1, 1), (3, 1), (1, 2), (3, 2)]\n",
      "Total operation time for the best solution:  8\n",
      "Machine 1: [0, 0, 3, 3, 3, 3, 2, 2, 2, 0, 0, 0, 0, 0, 0, 0, 0, 0, 1]\n",
      "Machine 2: [3, 3, 0, 0, 0, 0, 0, 0, 0, 0, 0, 0, 0, 0, 0, 0, 1, 1, 0]\n",
      "Machine 3: [0, 0, 0, 0, 0, 0, 3, 0, 0, 2, 2, 2, 1, 1, 1, 1, 0, 0, 0]\n"
     ]
    }
   ],
   "source": [
    "#finding the best solution by checking all possible soloutions\n",
    "schedules = calc.allCandidateSchedules(problem)\n",
    "makespan = inf\n",
    "best = None\n",
    "\n",
    "for schedule in schedules:\n",
    "    time = calc.totalOperationTime(problem, schedule)\n",
    "    if time < makespan:\n",
    "        makespan = time\n",
    "        best = schedule\n",
    "\n",
    "print('Best solution found: ', best)\n",
    "print('Total operation time for the best solution: ', makespan)\n",
    "for machine in problem.machines:\n",
    "    s = 'Machine %s: %s' % (machine.id, machine.operations)\n",
    "    print(s)"
   ]
  },
  {
   "cell_type": "markdown",
   "metadata": {},
   "source": [
    "This solution is limited to small problems because it creates every possible combination of schedules and then removes the schedules that doesn't fit the requirements (Operations of a job must be performed in order, i.e. the next operation cannot be started\n",
    "before the current is completed). As we can see from this small problem with only 8 operations in total, there are 40320 different schedules. This means that the isPossibleSchedule() function is ran over 40000 times. Then there are 560 possible schedules that we must compute the total timespan for. It is clearly that for a bigger problem this will take way too much time.\n",
    "\n",
    "The permutations() function that we use for finding every possible combination actually terminates when the problem is too bi."
   ]
  }
 ],
 "metadata": {
  "interpreter": {
   "hash": "ca150290dc79091d5642c1432564df6210ffd8d684dc0da4ee7ce9bf75211ec1"
  },
  "kernelspec": {
   "display_name": "Python 3.8.8 ('env': venv)",
   "language": "python",
   "name": "python3"
  },
  "language_info": {
   "codemirror_mode": {
    "name": "ipython",
    "version": 3
   },
   "file_extension": ".py",
   "mimetype": "text/x-python",
   "name": "python",
   "nbconvert_exporter": "python",
   "pygments_lexer": "ipython3",
   "version": "3.8.8"
  },
  "orig_nbformat": 4
 },
 "nbformat": 4,
 "nbformat_minor": 2
}

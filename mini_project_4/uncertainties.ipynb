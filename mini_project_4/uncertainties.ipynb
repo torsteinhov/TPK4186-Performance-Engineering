{
 "cells": [
  {
   "cell_type": "code",
   "execution_count": 2,
   "metadata": {},
   "outputs": [],
   "source": [
    "from models import createFromUncertainBenchmark, Calculator"
   ]
  },
  {
   "cell_type": "markdown",
   "metadata": {},
   "source": [
    "# Uncertainties\n",
    "In this experiment we are adding uncertainties to the problem. The becnhmark with uncertainties is found in benchmark_3.txt and is one the format:\n",
    "\n",
    "total jobs  total machines   total operations\n",
    "\n",
    "totoal_operations_for_this_line machine_id best average min machine_id best average min machine_id best average min \n",
    "\n",
    "totoal_operations_for_this_line machine_id best average min machine_id best average min machine_id best average min \n",
    "totoal_operations_for_this_line machine_id best average min machine_id best average min machine_id best average min \n",
    "...\n"
   ]
  },
  {
   "cell_type": "code",
   "execution_count": 3,
   "metadata": {},
   "outputs": [
    {
     "name": "stdout",
     "output_type": "stream",
     "text": [
      "Problem:\n",
      "Job 1 = [(3,4), (2,2), (1,1), ] /n Job 2 = [(1,3), (3,3), ] /n Job 3 = [(2,2), (1,4), (3,1), ] /n \n",
      "Schedule: \n",
      "[(1, 0), (1, 1), (1, 2), (2, 0), (2, 1), (3, 0), (3, 1), (3, 2)]\n"
     ]
    }
   ],
   "source": [
    "filename = '/Users/ane/Projects/Performance Engineering/mini_project_4/benchmarks/benchmark_3.txt'\n",
    "problem = createFromUncertainBenchmark(filename)\n",
    "\n",
    "# just to see that it works\n",
    "print('Problem:')\n",
    "print(problem)\n",
    "print('Schedule: ')\n",
    "print(problem.getSchedule())\n"
   ]
  },
  {
   "cell_type": "code",
   "execution_count": 4,
   "metadata": {},
   "outputs": [
    {
     "name": "stdout",
     "output_type": "stream",
     "text": [
      "Job 1 = [(3,(1, 4, 5)), (2,(1, 2, 2)), (1,(1, 1, 4)), ] /n Job 2 = [(1,(1, 3, 4)), (3,(2, 3, 5)), ] /n Job 3 = [(2,(1, 2, 2)), (1,(1, 4, 5)), (3,(1, 1, 3)), ] /n \n"
     ]
    }
   ],
   "source": [
    "# printing problem with best, avg and worst\n",
    "print(problem.printProblem(True))"
   ]
  },
  {
   "cell_type": "code",
   "execution_count": 5,
   "metadata": {},
   "outputs": [
    {
     "name": "stdout",
     "output_type": "stream",
     "text": [
      "Average makespan for the schedule:  [(1, 0), (1, 1), (1, 2), (2, 0), (2, 1), (3, 0), (3, 1), (3, 2)]\n",
      "Min:  5\n",
      "Avg:  15\n",
      "Max:  23\n",
      "14.333333333333334\n"
     ]
    }
   ],
   "source": [
    "# find the average cost of a schedule\n",
    "calc = Calculator()\n",
    "print('Average makespan for the schedule: ', problem.getSchedule())\n",
    "print(calc.averageOperationTime(problem.getSchedule(), problem))"
   ]
  },
  {
   "cell_type": "markdown",
   "metadata": {},
   "source": [
    "When considering uncertaintiesd we have to calculate the operation time three times for every schedule. For big problems calculating the operation time takes time, and uncertainties is therefore costy."
   ]
  }
 ],
 "metadata": {
  "interpreter": {
   "hash": "ca150290dc79091d5642c1432564df6210ffd8d684dc0da4ee7ce9bf75211ec1"
  },
  "kernelspec": {
   "display_name": "Python 3.8.8 ('env': venv)",
   "language": "python",
   "name": "python3"
  },
  "language_info": {
   "codemirror_mode": {
    "name": "ipython",
    "version": 3
   },
   "file_extension": ".py",
   "mimetype": "text/x-python",
   "name": "python",
   "nbconvert_exporter": "python",
   "pygments_lexer": "ipython3",
   "version": "3.8.8"
  },
  "orig_nbformat": 4
 },
 "nbformat": 4,
 "nbformat_minor": 2
}
